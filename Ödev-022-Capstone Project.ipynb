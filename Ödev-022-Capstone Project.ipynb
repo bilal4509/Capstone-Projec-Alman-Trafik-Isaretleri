{
 "cells": [
  {
   "cell_type": "markdown",
   "metadata": {},
   "source": [
    "# CNN kullanarak Trafik Levhalarının Tanıtılması Modeli"
   ]
  },
  {
   "cell_type": "markdown",
   "metadata": {},
   "source": [
    "<img src='trafik.png'>"
   ]
  },
  {
   "cell_type": "code",
   "execution_count": 1,
   "metadata": {
    "_cell_guid": "b1076dfc-b9ad-4769-8c92-a6c4dae69d19",
    "_uuid": "8f2839f25d086af736a60e9eeb907d3b93b6e0e5",
    "execution": {
     "iopub.execute_input": "2023-11-07T09:15:16.296272Z",
     "iopub.status.busy": "2023-11-07T09:15:16.294934Z",
     "iopub.status.idle": "2023-11-07T09:15:16.657324Z",
     "shell.execute_reply": "2023-11-07T09:15:16.655894Z",
     "shell.execute_reply.started": "2023-11-07T09:15:16.296211Z"
    }
   },
   "outputs": [],
   "source": [
    "# This Python 3 environment comes with many helpful analytics libraries installed\n",
    "# It is defined by the kaggle/python Docker image: https://github.com/kaggle/docker-python\n",
    "# For example, here's several helpful packages to load\n",
    "\n",
    "import numpy as np # linear algebra\n",
    "import pandas as pd # data processing, CSV file I/O (e.g. pd.read_csv)\n",
    "\n",
    "# Input data files are available in the read-only \"../input/\" directory\n",
    "# For example, running this (by clicking run or pressing Shift+Enter) will list all files under the input directory\n",
    "\n",
    "import os\n",
    "for dirname, _, filenames in os.walk('/kaggle/input'):\n",
    "    for filename in filenames:\n",
    "        print(os.path.join(dirname, filename))\n",
    "\n",
    "# You can write up to 20GB to the current directory (/kaggle/working/) that gets preserved as output when you create a version using \"Save & Run All\" \n",
    "# You can also write temporary files to /kaggle/temp/, but they won't be saved outside of the current session"
   ]
  },
  {
   "cell_type": "code",
   "execution_count": 2,
   "metadata": {
    "execution": {
     "iopub.execute_input": "2023-11-07T09:15:20.580458Z",
     "iopub.status.busy": "2023-11-07T09:15:20.579848Z",
     "iopub.status.idle": "2023-11-07T09:15:25.174460Z",
     "shell.execute_reply": "2023-11-07T09:15:25.173232Z",
     "shell.execute_reply.started": "2023-11-07T09:15:20.580422Z"
    }
   },
   "outputs": [],
   "source": [
    "import numpy as np \n",
    "import pandas as pd \n",
    "import os\n",
    "import seaborn as sns\n",
    "import matplotlib.pyplot as plt\n",
    "import random\n",
    "\n",
    "from PIL import Image\n",
    "from skimage import io\n",
    "\n",
    "import torch\n",
    "import torch.nn as nn\n",
    "import torch.nn.functional as F\n",
    "from torch.utils.data import DataLoader, random_split, Dataset\n",
    "import torch.optim as optim\n",
    "\n",
    "import torchvision.datasets\n",
    "import torchvision.transforms as T \n",
    "from torchvision.io import read_image\n",
    "from torchvision.datasets import DatasetFolder\n",
    "from torchvision.datasets.folder import default_loader"
   ]
  },
  {
   "cell_type": "code",
   "execution_count": 4,
   "metadata": {
    "execution": {
     "iopub.execute_input": "2023-11-07T09:16:24.986979Z",
     "iopub.status.busy": "2023-11-07T09:16:24.986534Z",
     "iopub.status.idle": "2023-11-07T09:16:25.123990Z",
     "shell.execute_reply": "2023-11-07T09:16:25.122265Z",
     "shell.execute_reply.started": "2023-11-07T09:16:24.986947Z"
    }
   },
   "outputs": [],
   "source": [
    "meta_df = pd.read_csv('/kaggle/input/gtsrb-german-traffic-sign/Meta.csv')\n",
    "train_df = pd.read_csv('/kaggle/input/gtsrb-german-traffic-sign/Train.csv')\n",
    "test_df = pd.read_csv('/kaggle/input/gtsrb-german-traffic-sign/Test.csv')"
   ]
  },
  {
   "cell_type": "code",
   "execution_count": 5,
   "metadata": {
    "execution": {
     "iopub.execute_input": "2023-11-07T09:18:01.413953Z",
     "iopub.status.busy": "2023-11-07T09:18:01.413530Z",
     "iopub.status.idle": "2023-11-07T09:18:01.434866Z",
     "shell.execute_reply": "2023-11-07T09:18:01.433485Z",
     "shell.execute_reply.started": "2023-11-07T09:18:01.413922Z"
    }
   },
   "outputs": [
    {
     "data": {
      "text/html": [
       "<div>\n",
       "<style scoped>\n",
       "    .dataframe tbody tr th:only-of-type {\n",
       "        vertical-align: middle;\n",
       "    }\n",
       "\n",
       "    .dataframe tbody tr th {\n",
       "        vertical-align: top;\n",
       "    }\n",
       "\n",
       "    .dataframe thead th {\n",
       "        text-align: right;\n",
       "    }\n",
       "</style>\n",
       "<table border=\"1\" class=\"dataframe\">\n",
       "  <thead>\n",
       "    <tr style=\"text-align: right;\">\n",
       "      <th></th>\n",
       "      <th>Path</th>\n",
       "      <th>ClassId</th>\n",
       "      <th>ShapeId</th>\n",
       "      <th>ColorId</th>\n",
       "      <th>SignId</th>\n",
       "    </tr>\n",
       "  </thead>\n",
       "  <tbody>\n",
       "    <tr>\n",
       "      <th>0</th>\n",
       "      <td>Meta/27.png</td>\n",
       "      <td>27</td>\n",
       "      <td>0</td>\n",
       "      <td>0</td>\n",
       "      <td>1.32</td>\n",
       "    </tr>\n",
       "    <tr>\n",
       "      <th>1</th>\n",
       "      <td>Meta/0.png</td>\n",
       "      <td>0</td>\n",
       "      <td>1</td>\n",
       "      <td>0</td>\n",
       "      <td>3.29</td>\n",
       "    </tr>\n",
       "    <tr>\n",
       "      <th>2</th>\n",
       "      <td>Meta/1.png</td>\n",
       "      <td>1</td>\n",
       "      <td>1</td>\n",
       "      <td>0</td>\n",
       "      <td>3.29</td>\n",
       "    </tr>\n",
       "    <tr>\n",
       "      <th>3</th>\n",
       "      <td>Meta/10.png</td>\n",
       "      <td>10</td>\n",
       "      <td>1</td>\n",
       "      <td>0</td>\n",
       "      <td>3.27</td>\n",
       "    </tr>\n",
       "    <tr>\n",
       "      <th>4</th>\n",
       "      <td>Meta/11.png</td>\n",
       "      <td>11</td>\n",
       "      <td>0</td>\n",
       "      <td>0</td>\n",
       "      <td>1.22</td>\n",
       "    </tr>\n",
       "  </tbody>\n",
       "</table>\n",
       "</div>"
      ],
      "text/plain": [
       "          Path  ClassId  ShapeId  ColorId SignId\n",
       "0  Meta/27.png       27        0        0   1.32\n",
       "1   Meta/0.png        0        1        0   3.29\n",
       "2   Meta/1.png        1        1        0   3.29\n",
       "3  Meta/10.png       10        1        0   3.27\n",
       "4  Meta/11.png       11        0        0   1.22"
      ]
     },
     "execution_count": 5,
     "metadata": {},
     "output_type": "execute_result"
    }
   ],
   "source": [
    "meta_df.head()"
   ]
  },
  {
   "cell_type": "code",
   "execution_count": 6,
   "metadata": {
    "execution": {
     "iopub.execute_input": "2023-11-07T09:18:13.867409Z",
     "iopub.status.busy": "2023-11-07T09:18:13.866053Z",
     "iopub.status.idle": "2023-11-07T09:18:13.880047Z",
     "shell.execute_reply": "2023-11-07T09:18:13.878958Z",
     "shell.execute_reply.started": "2023-11-07T09:18:13.867339Z"
    }
   },
   "outputs": [
    {
     "data": {
      "text/html": [
       "<div>\n",
       "<style scoped>\n",
       "    .dataframe tbody tr th:only-of-type {\n",
       "        vertical-align: middle;\n",
       "    }\n",
       "\n",
       "    .dataframe tbody tr th {\n",
       "        vertical-align: top;\n",
       "    }\n",
       "\n",
       "    .dataframe thead th {\n",
       "        text-align: right;\n",
       "    }\n",
       "</style>\n",
       "<table border=\"1\" class=\"dataframe\">\n",
       "  <thead>\n",
       "    <tr style=\"text-align: right;\">\n",
       "      <th></th>\n",
       "      <th>Width</th>\n",
       "      <th>Height</th>\n",
       "      <th>Roi.X1</th>\n",
       "      <th>Roi.Y1</th>\n",
       "      <th>Roi.X2</th>\n",
       "      <th>Roi.Y2</th>\n",
       "      <th>ClassId</th>\n",
       "      <th>Path</th>\n",
       "    </tr>\n",
       "  </thead>\n",
       "  <tbody>\n",
       "    <tr>\n",
       "      <th>0</th>\n",
       "      <td>27</td>\n",
       "      <td>26</td>\n",
       "      <td>5</td>\n",
       "      <td>5</td>\n",
       "      <td>22</td>\n",
       "      <td>20</td>\n",
       "      <td>20</td>\n",
       "      <td>Train/20/00020_00000_00000.png</td>\n",
       "    </tr>\n",
       "    <tr>\n",
       "      <th>1</th>\n",
       "      <td>28</td>\n",
       "      <td>27</td>\n",
       "      <td>5</td>\n",
       "      <td>6</td>\n",
       "      <td>23</td>\n",
       "      <td>22</td>\n",
       "      <td>20</td>\n",
       "      <td>Train/20/00020_00000_00001.png</td>\n",
       "    </tr>\n",
       "    <tr>\n",
       "      <th>2</th>\n",
       "      <td>29</td>\n",
       "      <td>26</td>\n",
       "      <td>6</td>\n",
       "      <td>5</td>\n",
       "      <td>24</td>\n",
       "      <td>21</td>\n",
       "      <td>20</td>\n",
       "      <td>Train/20/00020_00000_00002.png</td>\n",
       "    </tr>\n",
       "    <tr>\n",
       "      <th>3</th>\n",
       "      <td>28</td>\n",
       "      <td>27</td>\n",
       "      <td>5</td>\n",
       "      <td>6</td>\n",
       "      <td>23</td>\n",
       "      <td>22</td>\n",
       "      <td>20</td>\n",
       "      <td>Train/20/00020_00000_00003.png</td>\n",
       "    </tr>\n",
       "    <tr>\n",
       "      <th>4</th>\n",
       "      <td>28</td>\n",
       "      <td>26</td>\n",
       "      <td>5</td>\n",
       "      <td>5</td>\n",
       "      <td>23</td>\n",
       "      <td>21</td>\n",
       "      <td>20</td>\n",
       "      <td>Train/20/00020_00000_00004.png</td>\n",
       "    </tr>\n",
       "  </tbody>\n",
       "</table>\n",
       "</div>"
      ],
      "text/plain": [
       "   Width  Height  Roi.X1  Roi.Y1  Roi.X2  Roi.Y2  ClassId  \\\n",
       "0     27      26       5       5      22      20       20   \n",
       "1     28      27       5       6      23      22       20   \n",
       "2     29      26       6       5      24      21       20   \n",
       "3     28      27       5       6      23      22       20   \n",
       "4     28      26       5       5      23      21       20   \n",
       "\n",
       "                             Path  \n",
       "0  Train/20/00020_00000_00000.png  \n",
       "1  Train/20/00020_00000_00001.png  \n",
       "2  Train/20/00020_00000_00002.png  \n",
       "3  Train/20/00020_00000_00003.png  \n",
       "4  Train/20/00020_00000_00004.png  "
      ]
     },
     "execution_count": 6,
     "metadata": {},
     "output_type": "execute_result"
    }
   ],
   "source": [
    "train_df.head()"
   ]
  },
  {
   "cell_type": "code",
   "execution_count": 7,
   "metadata": {
    "execution": {
     "iopub.execute_input": "2023-11-07T09:18:26.365582Z",
     "iopub.status.busy": "2023-11-07T09:18:26.365164Z",
     "iopub.status.idle": "2023-11-07T09:18:26.380198Z",
     "shell.execute_reply": "2023-11-07T09:18:26.379109Z",
     "shell.execute_reply.started": "2023-11-07T09:18:26.365550Z"
    }
   },
   "outputs": [
    {
     "data": {
      "text/html": [
       "<div>\n",
       "<style scoped>\n",
       "    .dataframe tbody tr th:only-of-type {\n",
       "        vertical-align: middle;\n",
       "    }\n",
       "\n",
       "    .dataframe tbody tr th {\n",
       "        vertical-align: top;\n",
       "    }\n",
       "\n",
       "    .dataframe thead th {\n",
       "        text-align: right;\n",
       "    }\n",
       "</style>\n",
       "<table border=\"1\" class=\"dataframe\">\n",
       "  <thead>\n",
       "    <tr style=\"text-align: right;\">\n",
       "      <th></th>\n",
       "      <th>Width</th>\n",
       "      <th>Height</th>\n",
       "      <th>Roi.X1</th>\n",
       "      <th>Roi.Y1</th>\n",
       "      <th>Roi.X2</th>\n",
       "      <th>Roi.Y2</th>\n",
       "      <th>ClassId</th>\n",
       "      <th>Path</th>\n",
       "    </tr>\n",
       "  </thead>\n",
       "  <tbody>\n",
       "    <tr>\n",
       "      <th>0</th>\n",
       "      <td>53</td>\n",
       "      <td>54</td>\n",
       "      <td>6</td>\n",
       "      <td>5</td>\n",
       "      <td>48</td>\n",
       "      <td>49</td>\n",
       "      <td>16</td>\n",
       "      <td>Test/00000.png</td>\n",
       "    </tr>\n",
       "    <tr>\n",
       "      <th>1</th>\n",
       "      <td>42</td>\n",
       "      <td>45</td>\n",
       "      <td>5</td>\n",
       "      <td>5</td>\n",
       "      <td>36</td>\n",
       "      <td>40</td>\n",
       "      <td>1</td>\n",
       "      <td>Test/00001.png</td>\n",
       "    </tr>\n",
       "    <tr>\n",
       "      <th>2</th>\n",
       "      <td>48</td>\n",
       "      <td>52</td>\n",
       "      <td>6</td>\n",
       "      <td>6</td>\n",
       "      <td>43</td>\n",
       "      <td>47</td>\n",
       "      <td>38</td>\n",
       "      <td>Test/00002.png</td>\n",
       "    </tr>\n",
       "    <tr>\n",
       "      <th>3</th>\n",
       "      <td>27</td>\n",
       "      <td>29</td>\n",
       "      <td>5</td>\n",
       "      <td>5</td>\n",
       "      <td>22</td>\n",
       "      <td>24</td>\n",
       "      <td>33</td>\n",
       "      <td>Test/00003.png</td>\n",
       "    </tr>\n",
       "    <tr>\n",
       "      <th>4</th>\n",
       "      <td>60</td>\n",
       "      <td>57</td>\n",
       "      <td>5</td>\n",
       "      <td>5</td>\n",
       "      <td>55</td>\n",
       "      <td>52</td>\n",
       "      <td>11</td>\n",
       "      <td>Test/00004.png</td>\n",
       "    </tr>\n",
       "  </tbody>\n",
       "</table>\n",
       "</div>"
      ],
      "text/plain": [
       "   Width  Height  Roi.X1  Roi.Y1  Roi.X2  Roi.Y2  ClassId            Path\n",
       "0     53      54       6       5      48      49       16  Test/00000.png\n",
       "1     42      45       5       5      36      40        1  Test/00001.png\n",
       "2     48      52       6       6      43      47       38  Test/00002.png\n",
       "3     27      29       5       5      22      24       33  Test/00003.png\n",
       "4     60      57       5       5      55      52       11  Test/00004.png"
      ]
     },
     "execution_count": 7,
     "metadata": {},
     "output_type": "execute_result"
    }
   ],
   "source": [
    "test_df.head()"
   ]
  },
  {
   "cell_type": "code",
   "execution_count": 8,
   "metadata": {
    "execution": {
     "iopub.execute_input": "2023-11-07T09:19:18.769819Z",
     "iopub.status.busy": "2023-11-07T09:19:18.769403Z",
     "iopub.status.idle": "2023-11-07T09:19:18.789487Z",
     "shell.execute_reply": "2023-11-07T09:19:18.787980Z",
     "shell.execute_reply.started": "2023-11-07T09:19:18.769787Z"
    }
   },
   "outputs": [
    {
     "data": {
      "text/html": [
       "<div>\n",
       "<style scoped>\n",
       "    .dataframe tbody tr th:only-of-type {\n",
       "        vertical-align: middle;\n",
       "    }\n",
       "\n",
       "    .dataframe tbody tr th {\n",
       "        vertical-align: top;\n",
       "    }\n",
       "\n",
       "    .dataframe thead th {\n",
       "        text-align: right;\n",
       "    }\n",
       "</style>\n",
       "<table border=\"1\" class=\"dataframe\">\n",
       "  <thead>\n",
       "    <tr style=\"text-align: right;\">\n",
       "      <th></th>\n",
       "      <th>ClassId</th>\n",
       "      <th>Path</th>\n",
       "    </tr>\n",
       "  </thead>\n",
       "  <tbody>\n",
       "    <tr>\n",
       "      <th>0</th>\n",
       "      <td>20</td>\n",
       "      <td>Train/20/00020_00000_00000.png</td>\n",
       "    </tr>\n",
       "    <tr>\n",
       "      <th>1</th>\n",
       "      <td>20</td>\n",
       "      <td>Train/20/00020_00000_00001.png</td>\n",
       "    </tr>\n",
       "    <tr>\n",
       "      <th>2</th>\n",
       "      <td>20</td>\n",
       "      <td>Train/20/00020_00000_00002.png</td>\n",
       "    </tr>\n",
       "    <tr>\n",
       "      <th>3</th>\n",
       "      <td>20</td>\n",
       "      <td>Train/20/00020_00000_00003.png</td>\n",
       "    </tr>\n",
       "    <tr>\n",
       "      <th>4</th>\n",
       "      <td>20</td>\n",
       "      <td>Train/20/00020_00000_00004.png</td>\n",
       "    </tr>\n",
       "  </tbody>\n",
       "</table>\n",
       "</div>"
      ],
      "text/plain": [
       "   ClassId                            Path\n",
       "0       20  Train/20/00020_00000_00000.png\n",
       "1       20  Train/20/00020_00000_00001.png\n",
       "2       20  Train/20/00020_00000_00002.png\n",
       "3       20  Train/20/00020_00000_00003.png\n",
       "4       20  Train/20/00020_00000_00004.png"
      ]
     },
     "execution_count": 8,
     "metadata": {},
     "output_type": "execute_result"
    }
   ],
   "source": [
    "train_df = train_df.drop(['Width', 'Height', 'Roi.X1', 'Roi.Y1', 'Roi.X2', 'Roi.Y2'], axis = 1)\n",
    "train_df.head()"
   ]
  },
  {
   "cell_type": "code",
   "execution_count": 10,
   "metadata": {
    "execution": {
     "iopub.execute_input": "2023-11-07T09:29:09.903904Z",
     "iopub.status.busy": "2023-11-07T09:29:09.903372Z",
     "iopub.status.idle": "2023-11-07T09:29:18.372248Z",
     "shell.execute_reply": "2023-11-07T09:29:18.371068Z",
     "shell.execute_reply.started": "2023-11-07T09:29:09.903869Z"
    }
   },
   "outputs": [],
   "source": [
    "from tensorflow.keras.models import Sequential\n",
    "\n",
    "from tensorflow.keras.layers import Dense,Conv2D,InputLayer,Reshape,MaxPooling2D,Flatten\n",
    "\n",
    "#MaxPooling2D= en büyük rakamı buluyor\n",
    "#Conv2D=CNN\n",
    "#Flatten= bütün sütunları tek bir satır yapıyor\n",
    "#Reshape= resmi diziye çevir"
   ]
  },
  {
   "cell_type": "code",
   "execution_count": 15,
   "metadata": {
    "execution": {
     "iopub.execute_input": "2023-11-07T09:33:40.595626Z",
     "iopub.status.busy": "2023-11-07T09:33:40.595205Z",
     "iopub.status.idle": "2023-11-07T09:33:59.184882Z",
     "shell.execute_reply": "2023-11-07T09:33:59.183579Z",
     "shell.execute_reply.started": "2023-11-07T09:33:40.595593Z"
    }
   },
   "outputs": [
    {
     "name": "stdout",
     "output_type": "stream",
     "text": [
      "Collecting cvlib\n",
      "  Downloading cvlib-0.2.7.tar.gz (13.1 MB)\n",
      "\u001b[2K     \u001b[90m━━━━━━━━━━━━━━━━━━━━━━━━━━━━━━━━━━━━━━━━\u001b[0m \u001b[32m13.1/13.1 MB\u001b[0m \u001b[31m31.6 MB/s\u001b[0m eta \u001b[36m0:00:00\u001b[0m00:01\u001b[0m00:01\u001b[0m\n",
      "\u001b[?25h  Preparing metadata (setup.py) ... \u001b[?25ldone\n",
      "\u001b[?25hRequirement already satisfied: numpy in /opt/conda/lib/python3.10/site-packages (from cvlib) (1.23.5)\n",
      "Collecting progressbar (from cvlib)\n",
      "  Downloading progressbar-2.5.tar.gz (10 kB)\n",
      "  Preparing metadata (setup.py) ... \u001b[?25ldone\n",
      "\u001b[?25hRequirement already satisfied: requests in /opt/conda/lib/python3.10/site-packages (from cvlib) (2.31.0)\n",
      "Requirement already satisfied: pillow in /opt/conda/lib/python3.10/site-packages (from cvlib) (9.5.0)\n",
      "Requirement already satisfied: imageio in /opt/conda/lib/python3.10/site-packages (from cvlib) (2.31.1)\n",
      "Collecting imutils (from cvlib)\n",
      "  Downloading imutils-0.5.4.tar.gz (17 kB)\n",
      "  Preparing metadata (setup.py) ... \u001b[?25ldone\n",
      "\u001b[?25hRequirement already satisfied: charset-normalizer<4,>=2 in /opt/conda/lib/python3.10/site-packages (from requests->cvlib) (3.1.0)\n",
      "Requirement already satisfied: idna<4,>=2.5 in /opt/conda/lib/python3.10/site-packages (from requests->cvlib) (3.4)\n",
      "Requirement already satisfied: urllib3<3,>=1.21.1 in /opt/conda/lib/python3.10/site-packages (from requests->cvlib) (1.26.15)\n",
      "Requirement already satisfied: certifi>=2017.4.17 in /opt/conda/lib/python3.10/site-packages (from requests->cvlib) (2023.7.22)\n",
      "Building wheels for collected packages: cvlib, imutils, progressbar\n",
      "  Building wheel for cvlib (setup.py) ... \u001b[?25ldone\n",
      "\u001b[?25h  Created wheel for cvlib: filename=cvlib-0.2.7-py3-none-any.whl size=10046368 sha256=dbdf6615d79d04de883c146b0d84a8b81d7b760f8d472705d72eb537b7880b0d\n",
      "  Stored in directory: /root/.cache/pip/wheels/9e/a5/d4/fe37b48fe4f4b621ba5e574a991230070f3cc4f02322a01489\n",
      "  Building wheel for imutils (setup.py) ... \u001b[?25ldone\n",
      "\u001b[?25h  Created wheel for imutils: filename=imutils-0.5.4-py3-none-any.whl size=25838 sha256=37e92df17178374429acbba25397f8428ca053d115972e91acd0965f9f777b59\n",
      "  Stored in directory: /root/.cache/pip/wheels/85/cf/3a/e265e975a1e7c7e54eb3692d6aa4e2e7d6a3945d29da46f2d7\n",
      "  Building wheel for progressbar (setup.py) ... \u001b[?25ldone\n",
      "\u001b[?25h  Created wheel for progressbar: filename=progressbar-2.5-py3-none-any.whl size=12067 sha256=248072c2513038165620a4ac1a40d36564fdbaeb811f07ae5a51355205dba120\n",
      "  Stored in directory: /root/.cache/pip/wheels/cd/17/e5/765d1a3112ff3978f70223502f6047e06c43a24d7c5f8ff95b\n",
      "Successfully built cvlib imutils progressbar\n",
      "Installing collected packages: progressbar, imutils, cvlib\n",
      "Successfully installed cvlib-0.2.7 imutils-0.5.4 progressbar-2.5\n",
      "Note: you may need to restart the kernel to use updated packages.\n"
     ]
    }
   ],
   "source": [
    "pip install cvlib"
   ]
  },
  {
   "cell_type": "code",
   "execution_count": 17,
   "metadata": {
    "execution": {
     "iopub.execute_input": "2023-11-07T09:34:16.242960Z",
     "iopub.status.busy": "2023-11-07T09:34:16.242440Z",
     "iopub.status.idle": "2023-11-07T09:34:17.413622Z",
     "shell.execute_reply": "2023-11-07T09:34:17.412759Z",
     "shell.execute_reply.started": "2023-11-07T09:34:16.242915Z"
    }
   },
   "outputs": [
    {
     "name": "stdout",
     "output_type": "stream",
     "text": [
      "\u001b[31mERROR: Could not find a version that satisfies the requirement python-opencv (from versions: none)\u001b[0m\u001b[31m\n",
      "\u001b[0m\u001b[31mERROR: No matching distribution found for python-opencv\u001b[0m\u001b[31m\n",
      "\u001b[0mNote: you may need to restart the kernel to use updated packages.\n"
     ]
    }
   ],
   "source": [
    "pip install python-opencv"
   ]
  },
  {
   "cell_type": "code",
   "execution_count": 18,
   "metadata": {
    "execution": {
     "iopub.execute_input": "2023-11-07T09:34:57.007825Z",
     "iopub.status.busy": "2023-11-07T09:34:57.007399Z",
     "iopub.status.idle": "2023-11-07T09:34:57.241484Z",
     "shell.execute_reply": "2023-11-07T09:34:57.240494Z",
     "shell.execute_reply.started": "2023-11-07T09:34:57.007792Z"
    }
   },
   "outputs": [],
   "source": [
    "import cv2\n",
    "import matplotlib.pyplot as plt\n",
    "import cvlib\n",
    "from cvlib.object_detection import draw_bbox"
   ]
  },
  {
   "cell_type": "code",
   "execution_count": 22,
   "metadata": {
    "execution": {
     "iopub.execute_input": "2023-11-07T09:41:24.131961Z",
     "iopub.status.busy": "2023-11-07T09:41:24.131532Z",
     "iopub.status.idle": "2023-11-07T09:41:24.138096Z",
     "shell.execute_reply": "2023-11-07T09:41:24.136766Z",
     "shell.execute_reply.started": "2023-11-07T09:41:24.131927Z"
    }
   },
   "outputs": [],
   "source": [
    "#pip install pycaret"
   ]
  },
  {
   "cell_type": "code",
   "execution_count": 23,
   "metadata": {
    "execution": {
     "iopub.execute_input": "2023-11-07T09:45:52.877950Z",
     "iopub.status.busy": "2023-11-07T09:45:52.877499Z",
     "iopub.status.idle": "2023-11-07T09:45:53.063070Z",
     "shell.execute_reply": "2023-11-07T09:45:53.062040Z",
     "shell.execute_reply.started": "2023-11-07T09:45:52.877915Z"
    }
   },
   "outputs": [],
   "source": [
    "import os\n",
    "import numpy as np\n",
    "import pandas as pd\n",
    "import matplotlib.pyplot as plt\n",
    "from PIL import Image\n",
    "from sklearn.model_selection import train_test_split\n",
    "import tensorflow as tf\n",
    "from tensorflow.keras.utils import to_categorical\n",
    "from tensorflow.keras.models import Sequential\n",
    "from keras.layers import Conv2D, Dense, Flatten, MaxPool2D, Dropout\n",
    "from keras.models import load_model"
   ]
  },
  {
   "cell_type": "code",
   "execution_count": 1,
   "metadata": {},
   "outputs": [],
   "source": [
    "#Veri işleme(resize, change datatype, split train test, )"
   ]
  },
  {
   "cell_type": "code",
   "execution_count": 24,
   "metadata": {
    "execution": {
     "iopub.execute_input": "2023-11-07T09:46:10.864426Z",
     "iopub.status.busy": "2023-11-07T09:46:10.864054Z",
     "iopub.status.idle": "2023-11-07T09:51:20.489833Z",
     "shell.execute_reply": "2023-11-07T09:51:20.488790Z",
     "shell.execute_reply.started": "2023-11-07T09:46:10.864395Z"
    }
   },
   "outputs": [
    {
     "name": "stdout",
     "output_type": "stream",
     "text": [
      "data[0]:  [[[255 253 214]\n",
      "  [255 253 215]\n",
      "  [255 251 216]\n",
      "  ...\n",
      "  [239 222 186]\n",
      "  [236 220 185]\n",
      "  [235 217 183]]\n",
      "\n",
      " [[255 255 230]\n",
      "  [255 255 229]\n",
      "  [255 255 230]\n",
      "  ...\n",
      "  [254 241 204]\n",
      "  [254 240 202]\n",
      "  [253 239 202]]\n",
      "\n",
      " [[255 255 240]\n",
      "  [255 255 237]\n",
      "  [255 255 234]\n",
      "  ...\n",
      "  [255 247 206]\n",
      "  [254 246 207]\n",
      "  [254 244 208]]\n",
      "\n",
      " ...\n",
      "\n",
      " [[255 255 229]\n",
      "  [255 255 226]\n",
      "  [255 255 222]\n",
      "  ...\n",
      "  [182 170 140]\n",
      "  [180 167 137]\n",
      "  [179 166 137]]\n",
      "\n",
      " [[255 255 229]\n",
      "  [255 255 224]\n",
      "  [255 255 222]\n",
      "  ...\n",
      "  [195 182 151]\n",
      "  [191 180 149]\n",
      "  [191 179 147]]\n",
      "\n",
      " [[255 255 227]\n",
      "  [255 255 226]\n",
      "  [255 255 224]\n",
      "  ...\n",
      "  [203 191 157]\n",
      "  [201 190 157]\n",
      "  [201 187 155]]]\n",
      "labels[0: ] 0\n"
     ]
    }
   ],
   "source": [
    "imgs_path = \"/kaggle/input/gtsrb-german-traffic-sign/Train\"\n",
    "data = []\n",
    "labels = []\n",
    "CLASSES = 43\n",
    "# using for loop to access each image\n",
    "for i in range(CLASSES):\n",
    "    img_path = os.path.join(imgs_path, str(i)) #0-42\n",
    "    for img in os.listdir(img_path):\n",
    "        im = Image.open(imgs_path + '/' + str(i) + '/' + img)\n",
    "        im = im.resize((30,30))\n",
    "        im = np.array(im)\n",
    "        data.append(im)\n",
    "        labels.append(i)\n",
    "data = np.array(data)\n",
    "labels = np.array(labels)\n",
    "print(\"data[0]: \",data[0])\n",
    "print(\"labels[0: ]\",labels[0])"
   ]
  },
  {
   "cell_type": "code",
   "execution_count": 25,
   "metadata": {
    "execution": {
     "iopub.execute_input": "2023-11-07T09:52:13.813596Z",
     "iopub.status.busy": "2023-11-07T09:52:13.813168Z",
     "iopub.status.idle": "2023-11-07T09:52:13.854217Z",
     "shell.execute_reply": "2023-11-07T09:52:13.852770Z",
     "shell.execute_reply.started": "2023-11-07T09:52:13.813563Z"
    }
   },
   "outputs": [
    {
     "name": "stdout",
     "output_type": "stream",
     "text": [
      "training shape:  (31367, 30, 30, 3) (31367,)\n",
      "testing shape:  (7842, 30, 30, 3) (7842,)\n",
      "[0. 0. 0. 0. 0. 0. 0. 0. 0. 0. 0. 0. 0. 0. 0. 0. 0. 0. 0. 0. 0. 0. 0. 0.\n",
      " 0. 0. 0. 0. 1. 0. 0. 0. 0. 0. 0. 0. 0. 0. 0. 0. 0. 0. 0.]\n"
     ]
    }
   ],
   "source": [
    "x_train, x_test, y_train, y_test = train_test_split(data, labels, test_size=0.2, random_state=42)\n",
    "print(\"training shape: \",x_train.shape, y_train.shape)\n",
    "print(\"testing shape: \",x_test.shape, y_test.shape)\n",
    "# convert interge label to one-hot data\n",
    "y_train = to_categorical(y_train, 43)\n",
    "y_test = to_categorical(y_test, 43)\n",
    "\n",
    "print(y_train[1])"
   ]
  },
  {
   "cell_type": "code",
   "execution_count": null,
   "metadata": {},
   "outputs": [],
   "source": [
    "#Keras Modeli Oluşturma"
   ]
  },
  {
   "cell_type": "code",
   "execution_count": 26,
   "metadata": {
    "execution": {
     "iopub.execute_input": "2023-11-07T09:52:25.886842Z",
     "iopub.status.busy": "2023-11-07T09:52:25.886438Z",
     "iopub.status.idle": "2023-11-07T09:52:26.128462Z",
     "shell.execute_reply": "2023-11-07T09:52:26.127393Z",
     "shell.execute_reply.started": "2023-11-07T09:52:25.886813Z"
    }
   },
   "outputs": [],
   "source": [
    "model = Sequential()\n",
    "model.add(Conv2D(filters=32, kernel_size=(5,5), activation=\"relu\", input_shape=x_train.shape[1:]))\n",
    "model.add(Conv2D(filters=32, kernel_size=(5,5), activation=\"relu\"))\n",
    "model.add(MaxPool2D(pool_size=(2,2)))\n",
    "model.add(Dropout(rate=0.25))\n",
    "model.add(Conv2D(filters=64, kernel_size=(3,3), activation=\"relu\"))\n",
    "model.add(Conv2D(filters=64, kernel_size=(3,3), activation=\"relu\"))\n",
    "model.add(MaxPool2D(pool_size=(2,2)))\n",
    "model.add(Dropout(rate=0.25))\n",
    "model.add(Flatten())\n",
    "model.add(Dense(256, activation=\"relu\"))\n",
    "model.add(Dropout(rate=0.5))\n",
    "model.add(Dense(43, activation=\"softmax\"))"
   ]
  },
  {
   "cell_type": "code",
   "execution_count": 27,
   "metadata": {
    "execution": {
     "iopub.execute_input": "2023-11-07T09:52:42.609546Z",
     "iopub.status.busy": "2023-11-07T09:52:42.609134Z",
     "iopub.status.idle": "2023-11-07T09:52:42.652002Z",
     "shell.execute_reply": "2023-11-07T09:52:42.650642Z",
     "shell.execute_reply.started": "2023-11-07T09:52:42.609517Z"
    }
   },
   "outputs": [
    {
     "name": "stdout",
     "output_type": "stream",
     "text": [
      "Model: \"sequential\"\n",
      "_________________________________________________________________\n",
      " Layer (type)                Output Shape              Param #   \n",
      "=================================================================\n",
      " conv2d (Conv2D)             (None, 26, 26, 32)        2432      \n",
      "                                                                 \n",
      " conv2d_1 (Conv2D)           (None, 22, 22, 32)        25632     \n",
      "                                                                 \n",
      " max_pooling2d (MaxPooling2D  (None, 11, 11, 32)       0         \n",
      " )                                                               \n",
      "                                                                 \n",
      " dropout (Dropout)           (None, 11, 11, 32)        0         \n",
      "                                                                 \n",
      " conv2d_2 (Conv2D)           (None, 9, 9, 64)          18496     \n",
      "                                                                 \n",
      " conv2d_3 (Conv2D)           (None, 7, 7, 64)          36928     \n",
      "                                                                 \n",
      " max_pooling2d_1 (MaxPooling  (None, 3, 3, 64)         0         \n",
      " 2D)                                                             \n",
      "                                                                 \n",
      " dropout_1 (Dropout)         (None, 3, 3, 64)          0         \n",
      "                                                                 \n",
      " flatten (Flatten)           (None, 576)               0         \n",
      "                                                                 \n",
      " dense (Dense)               (None, 256)               147712    \n",
      "                                                                 \n",
      " dropout_2 (Dropout)         (None, 256)               0         \n",
      "                                                                 \n",
      " dense_1 (Dense)             (None, 43)                11051     \n",
      "                                                                 \n",
      "=================================================================\n",
      "Total params: 242,251\n",
      "Trainable params: 242,251\n",
      "Non-trainable params: 0\n",
      "_________________________________________________________________\n"
     ]
    }
   ],
   "source": [
    "model.summary()"
   ]
  },
  {
   "cell_type": "code",
   "execution_count": 2,
   "metadata": {},
   "outputs": [],
   "source": [
    "#Train model"
   ]
  },
  {
   "cell_type": "code",
   "execution_count": 28,
   "metadata": {
    "execution": {
     "iopub.execute_input": "2023-11-07T09:52:57.970662Z",
     "iopub.status.busy": "2023-11-07T09:52:57.970285Z",
     "iopub.status.idle": "2023-11-07T09:52:57.988269Z",
     "shell.execute_reply": "2023-11-07T09:52:57.987507Z",
     "shell.execute_reply.started": "2023-11-07T09:52:57.970636Z"
    }
   },
   "outputs": [],
   "source": [
    "model.compile(loss=\"categorical_crossentropy\", optimizer=\"adam\", metrics=[\"accuracy\"])"
   ]
  },
  {
   "cell_type": "code",
   "execution_count": 30,
   "metadata": {
    "execution": {
     "iopub.execute_input": "2023-11-07T09:53:20.464433Z",
     "iopub.status.busy": "2023-11-07T09:53:20.464047Z",
     "iopub.status.idle": "2023-11-07T10:08:44.305000Z",
     "shell.execute_reply": "2023-11-07T10:08:44.304018Z",
     "shell.execute_reply.started": "2023-11-07T09:53:20.464402Z"
    }
   },
   "outputs": [
    {
     "name": "stdout",
     "output_type": "stream",
     "text": [
      "Epoch 1/15\n",
      "491/491 [==============================] - 60s 118ms/step - loss: 2.4791 - accuracy: 0.3912 - val_loss: 0.8543 - val_accuracy: 0.7891\n",
      "Epoch 2/15\n",
      "491/491 [==============================] - 58s 118ms/step - loss: 0.9619 - accuracy: 0.7179 - val_loss: 0.4744 - val_accuracy: 0.8882\n",
      "Epoch 3/15\n",
      "491/491 [==============================] - 57s 117ms/step - loss: 0.5128 - accuracy: 0.8476 - val_loss: 0.1933 - val_accuracy: 0.9447\n",
      "Epoch 4/15\n",
      "491/491 [==============================] - 58s 117ms/step - loss: 0.3384 - accuracy: 0.9005 - val_loss: 0.1115 - val_accuracy: 0.9691\n",
      "Epoch 5/15\n",
      "491/491 [==============================] - 59s 119ms/step - loss: 0.2615 - accuracy: 0.9231 - val_loss: 0.0891 - val_accuracy: 0.9759\n",
      "Epoch 6/15\n",
      "491/491 [==============================] - 60s 122ms/step - loss: 0.2175 - accuracy: 0.9374 - val_loss: 0.0648 - val_accuracy: 0.9836\n",
      "Epoch 7/15\n",
      "491/491 [==============================] - 59s 121ms/step - loss: 0.1844 - accuracy: 0.9483 - val_loss: 0.0692 - val_accuracy: 0.9827\n",
      "Epoch 8/15\n",
      "491/491 [==============================] - 58s 118ms/step - loss: 0.1662 - accuracy: 0.9528 - val_loss: 0.1161 - val_accuracy: 0.9680\n",
      "Epoch 9/15\n",
      "491/491 [==============================] - 57s 117ms/step - loss: 0.1602 - accuracy: 0.9542 - val_loss: 0.0478 - val_accuracy: 0.9884\n",
      "Epoch 10/15\n",
      "491/491 [==============================] - 57s 117ms/step - loss: 0.1567 - accuracy: 0.9572 - val_loss: 0.0443 - val_accuracy: 0.9887\n",
      "Epoch 11/15\n",
      "491/491 [==============================] - 58s 118ms/step - loss: 0.1462 - accuracy: 0.9592 - val_loss: 0.0409 - val_accuracy: 0.9894\n",
      "Epoch 12/15\n",
      "491/491 [==============================] - 56s 115ms/step - loss: 0.1365 - accuracy: 0.9625 - val_loss: 0.0467 - val_accuracy: 0.9885\n",
      "Epoch 13/15\n",
      "491/491 [==============================] - 56s 113ms/step - loss: 0.1393 - accuracy: 0.9623 - val_loss: 0.0696 - val_accuracy: 0.9825\n",
      "Epoch 14/15\n",
      "491/491 [==============================] - 56s 114ms/step - loss: 0.1352 - accuracy: 0.9637 - val_loss: 0.0540 - val_accuracy: 0.9885\n",
      "Epoch 15/15\n",
      "491/491 [==============================] - 57s 117ms/step - loss: 0.1348 - accuracy: 0.9655 - val_loss: 0.0455 - val_accuracy: 0.9894\n"
     ]
    }
   ],
   "source": [
    "epochs = 15\n",
    "history = model.fit(x_train, y_train, epochs=epochs, batch_size=64, validation_data=(x_test, y_test))"
   ]
  },
  {
   "cell_type": "code",
   "execution_count": null,
   "metadata": {},
   "outputs": [],
   "source": [
    "#Kasıp ve Doğruluk modelini görselleştirme"
   ]
  },
  {
   "cell_type": "code",
   "execution_count": 31,
   "metadata": {
    "execution": {
     "iopub.execute_input": "2023-11-07T10:19:54.917904Z",
     "iopub.status.busy": "2023-11-07T10:19:54.917412Z",
     "iopub.status.idle": "2023-11-07T10:19:55.579913Z",
     "shell.execute_reply": "2023-11-07T10:19:55.577873Z",
     "shell.execute_reply.started": "2023-11-07T10:19:54.917869Z"
    }
   },
   "outputs": [
    {
     "data": {
      "image/png": "[encoded data removed]",
      "text/plain": [
       "<Figure size 640x480 with 1 Axes>"
      ]
     },
     "metadata": {},
     "output_type": "display_data"
    },
    {
     "data": {
      "image/png": "[encoded data removed]",
      "text/plain": [
       "<Figure size 640x480 with 1 Axes>"
      ]
     },
     "metadata": {},
     "output_type": "display_data"
    }
   ],
   "source": [
    "plt.figure(0) #underfitting\n",
    "plt.plot(history.history['accuracy'], label=\"Training accuracy\")\n",
    "plt.plot(history.history['val_accuracy'], label=\"val accuracy\")\n",
    "plt.title(\"Accuracy\")\n",
    "plt.xlabel(\"epochs\")\n",
    "plt.ylabel(\"accuracy\")\n",
    "plt.legend()\n",
    "plt.savefig('underfitting.png')\n",
    "plt.figure(1) #overfiting\n",
    "plt.plot(history.history['loss'], label=\"training loss\")\n",
    "plt.plot(history.history['val_loss'], label=\"val loss\")\n",
    "plt.title(\"Loss\")\n",
    "plt.xlabel(\"epochs\")\n",
    "plt.ylabel(\"Loss\")\n",
    "plt.legend()\n",
    "plt.savefig('overfiting.png')\n",
    "plt.show()"
   ]
  },
  {
   "cell_type": "code",
   "execution_count": 3,
   "metadata": {},
   "outputs": [],
   "source": [
    "#Modeli test etme"
   ]
  },
  {
   "cell_type": "code",
   "execution_count": 32,
   "metadata": {
    "execution": {
     "iopub.execute_input": "2023-11-07T10:20:09.158745Z",
     "iopub.status.busy": "2023-11-07T10:20:09.158292Z",
     "iopub.status.idle": "2023-11-07T10:22:30.721698Z",
     "shell.execute_reply": "2023-11-07T10:22:30.719953Z",
     "shell.execute_reply.started": "2023-11-07T10:20:09.158693Z"
    }
   },
   "outputs": [
    {
     "name": "stdout",
     "output_type": "stream",
     "text": [
      "395/395 [==============================] - 5s 12ms/step\n",
      "accuracy:  0.9574821852731591\n"
     ]
    }
   ],
   "source": [
    "from sklearn.metrics import accuracy_score\n",
    "test = pd.read_csv(\"/kaggle/input/gtsrb-german-traffic-sign/Test.csv\")\n",
    "test_labels = test['ClassId'].values.tolist()\n",
    "\n",
    "test_img_path = \"/kaggle/input/gtsrb-german-traffic-sign\"\n",
    "test_imgs = test['Path'].values\n",
    "test_data = []\n",
    "\n",
    "for img in test_imgs:\n",
    "    im = Image.open(test_img_path + '/' + img)\n",
    "    im = im.resize((30,30))\n",
    "    im = np.array(im)\n",
    "    test_data.append(im)\n",
    "test_data = np.array(test_data)\n",
    "predictions = model.predict(test_data)\n",
    "classes_x = np.argmax(predictions, axis = 1).tolist()\n",
    "classes_x = np.array([classes_x]).tolist()[0]\n",
    "\n",
    "print(\"accuracy: \", accuracy_score(test_labels, classes_x))"
   ]
  },
  {
   "cell_type": "code",
   "execution_count": 33,
   "metadata": {
    "execution": {
     "iopub.execute_input": "2023-11-07T10:22:55.267438Z",
     "iopub.status.busy": "2023-11-07T10:22:55.267079Z",
     "iopub.status.idle": "2023-11-07T10:22:55.649230Z",
     "shell.execute_reply": "2023-11-07T10:22:55.647892Z",
     "shell.execute_reply.started": "2023-11-07T10:22:55.267414Z"
    }
   },
   "outputs": [
    {
     "data": {
      "image/png": "[encoded data removed]",
      "text/plain": [
       "<Figure size 640x480 with 1 Axes>"
      ]
     },
     "metadata": {},
     "output_type": "display_data"
    },
    {
     "data": {
      "image/png": "[encoded data removed]",
      "text/plain": [
       "<Figure size 640x480 with 1 Axes>"
      ]
     },
     "metadata": {},
     "output_type": "display_data"
    }
   ],
   "source": [
    "number_of_image_test = 7 #20\n",
    "\n",
    "test_image_name = test_imgs[number_of_image_test]\n",
    "image_label = test_labels[number_of_image_test]\n",
    "plt.figure(0)\n",
    "img_path = test_img_path + '/' + test_image_name\n",
    "img = Image.open(img_path)\n",
    "plt.imshow(img)\n",
    "plt.title(\"Test Image\")\n",
    "plt.figure(1)\n",
    "img_pre = Image.open('/kaggle/input/gtsrb-german-traffic-sign/Meta/' + str(classes_x[number_of_image_test]) + '.png')\n",
    "plt.imshow(img_pre)\n",
    "plt.title(\"Predict Image\")\n",
    "plt.show()"
   ]
  },
  {
   "cell_type": "code",
   "execution_count": null,
   "metadata": {},
   "outputs": [],
   "source": []
  }
 ],
 "metadata": {
  "kernelspec": {
   "display_name": "Python 3 (ipykernel)",
   "language": "python",
   "name": "python3"
  },
  "language_info": {
   "codemirror_mode": {
    "name": "ipython",
    "version": 3
   },
   "file_extension": ".py",
   "mimetype": "text/x-python",
   "name": "python",
   "nbconvert_exporter": "python",
   "pygments_lexer": "ipython3",
   "version": "3.11.3"
  }
 },
 "nbformat": 4,
 "nbformat_minor": 4
}
